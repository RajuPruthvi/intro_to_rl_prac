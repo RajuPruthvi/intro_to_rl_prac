{
 "cells": [
  {
   "cell_type": "code",
   "execution_count": 14,
   "metadata": {},
   "outputs": [],
   "source": [
    "import numpy as np"
   ]
  },
  {
   "cell_type": "code",
   "execution_count": 36,
   "metadata": {},
   "outputs": [],
   "source": [
    "nS = 16\n",
    "nA = 4\n",
    "dx = [-1, 0, 1, 0]\n",
    "dy = [0, 1, 0, -1]\n",
    "\n",
    "def is_inside(i, j):\n",
    "    return i >= 0 and i < 4 and j >= 0 and j < 4"
   ]
  },
  {
   "cell_type": "code",
   "execution_count": 49,
   "metadata": {},
   "outputs": [],
   "source": [
    "def policy_eval(policy, discount_factor=1.0, theta=1e-4, num_iter=100):\n",
    "    v = np.zeros(nS)\n",
    "    max_delta = 1e3\n",
    "    while(max_delta > theta and num_iter > 0):\n",
    "        num_iter -= 1\n",
    "        for s in range(1, nS - 1):\n",
    "            new_val = 0\n",
    "            sr, sc = s // 4, s % 4\n",
    "            for k in range(4):\n",
    "                nsr, nsc = sr + dx[k], sc + dy[k]\n",
    "                if(not is_inside(nsr, nsc)):\n",
    "                    ns = s\n",
    "                else:\n",
    "                    ns = nsr * 4 + nsc\n",
    "                new_val += policy[s][k] * (-1 + discount_factor * v[ns])\n",
    "            max_delta = max(max_delta, new_val - v[s])\n",
    "            v[s] = new_val\n",
    "    return v"
   ]
  },
  {
   "cell_type": "code",
   "execution_count": 50,
   "metadata": {},
   "outputs": [
    {
     "name": "stdout",
     "output_type": "stream",
     "text": [
      "[  0.         -13.99765839 -19.99663362 -21.99629468 -13.99765839\n",
      " -17.99712654 -19.99688008 -19.99691576 -19.99663362 -19.99688008\n",
      " -17.99736736 -13.99803444 -21.99629468 -19.99691576 -13.99803444\n",
      "   0.        ]\n"
     ]
    }
   ],
   "source": [
    "policy1 = np.ones([nS, nA]) / nA\n",
    "v = policy_eval(policy1)\n",
    "print(v)"
   ]
  },
  {
   "cell_type": "code",
   "execution_count": 51,
   "metadata": {},
   "outputs": [],
   "source": [
    "# Test: Make sure the evaluated policy is what we expected\n",
    "expected_v = np.array([0, -14, -20, -22, -14, -18, -20, -20, -20, -20, -18, -14, -22, -20, -14, 0])\n",
    "np.testing.assert_array_almost_equal(v, expected_v, decimal=2)"
   ]
  }
 ],
 "metadata": {
  "kernelspec": {
   "display_name": "Python 3.10.6 ('intro_to_rl')",
   "language": "python",
   "name": "python3"
  },
  "language_info": {
   "codemirror_mode": {
    "name": "ipython",
    "version": 3
   },
   "file_extension": ".py",
   "mimetype": "text/x-python",
   "name": "python",
   "nbconvert_exporter": "python",
   "pygments_lexer": "ipython3",
   "version": "3.10.6"
  },
  "orig_nbformat": 4,
  "vscode": {
   "interpreter": {
    "hash": "36d08a71a96b769903d5af130c4a103f80dc5f26da6aebb61584a77116c07102"
   }
  }
 },
 "nbformat": 4,
 "nbformat_minor": 2
}
