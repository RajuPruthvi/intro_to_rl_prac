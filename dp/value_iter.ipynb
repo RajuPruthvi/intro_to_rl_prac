{
 "cells": [
  {
   "cell_type": "code",
   "execution_count": 1,
   "metadata": {},
   "outputs": [],
   "source": [
    "import numpy as np"
   ]
  },
  {
   "cell_type": "code",
   "execution_count": 2,
   "metadata": {},
   "outputs": [],
   "source": [
    "nS = 16\n",
    "nA = 4\n",
    "dx = [-1, 0, 1, 0]\n",
    "dy = [0, 1, 0, -1]\n",
    "\n",
    "def is_inside(i, j):\n",
    "    return i >= 0 and i < 4 and j >= 0 and j < 4"
   ]
  },
  {
   "cell_type": "code",
   "execution_count": 3,
   "metadata": {},
   "outputs": [],
   "source": [
    "def value_iter(theta=0.01, discount_factor=1.0):\n",
    "    v = np.zeros(nS)\n",
    "    while(1):\n",
    "        delta = 0\n",
    "        for s in range(1, nS - 1):\n",
    "            sr, sc = s // 4, s % 4\n",
    "            new_vals = -1e9\n",
    "            for k in range(4):\n",
    "                nsr, nsc = sr + dx[k], sc + dy[k]\n",
    "                if(not is_inside(nsr, nsc)):\n",
    "                    ns = s\n",
    "                else:\n",
    "                    ns = nsr * 4 + nsc\n",
    "                new_vals = max(new_vals, (-1 + discount_factor * v[ns]))\n",
    "            delta = max(delta, abs(new_vals - v[s]))\n",
    "            v[s] = new_vals\n",
    "        if(delta < theta):\n",
    "            break\n",
    "    \n",
    "    # Generate policy for the obtained approx value func\n",
    "    policy = np.zeros([nS, nA])\n",
    "    for s in range(1, nS - 1):\n",
    "        sr, sc = s // 4, s % 4\n",
    "        best_action = -1\n",
    "        best_value = -1e9\n",
    "        for k in range(4):\n",
    "            nsr, nsc = sr + dx[k], sc + dy[k]\n",
    "            if(not is_inside(nsr, nsc)):\n",
    "                ns = s\n",
    "            else:\n",
    "                ns = nsr * 4 + nsc\n",
    "            cur_val = (-1 + discount_factor * v[ns])\n",
    "            if(cur_val > best_value):\n",
    "                best_value = cur_val\n",
    "                best_action = k\n",
    "        policy[s][best_action] = 1\n",
    "    return policy, v"
   ]
  },
  {
   "cell_type": "code",
   "execution_count": 5,
   "metadata": {},
   "outputs": [
    {
     "name": "stdout",
     "output_type": "stream",
     "text": [
      "[[0. 0. 0. 0.]\n",
      " [0. 0. 0. 1.]\n",
      " [0. 0. 0. 1.]\n",
      " [0. 0. 1. 0.]\n",
      " [1. 0. 0. 0.]\n",
      " [1. 0. 0. 0.]\n",
      " [1. 0. 0. 0.]\n",
      " [0. 0. 1. 0.]\n",
      " [1. 0. 0. 0.]\n",
      " [1. 0. 0. 0.]\n",
      " [0. 1. 0. 0.]\n",
      " [0. 0. 1. 0.]\n",
      " [1. 0. 0. 0.]\n",
      " [0. 1. 0. 0.]\n",
      " [0. 1. 0. 0.]\n",
      " [0. 0. 0. 0.]] [ 0. -1. -2. -3. -1. -2. -3. -2. -2. -3. -2. -1. -3. -2. -1.  0.]\n"
     ]
    }
   ],
   "source": [
    "policy, v = value_iter()\n",
    "print(policy, v)"
   ]
  },
  {
   "cell_type": "code",
   "execution_count": 6,
   "metadata": {},
   "outputs": [],
   "source": [
    "# Test the value function\n",
    "expected_v = np.array([ 0, -1, -2, -3, -1, -2, -3, -2, -2, -3, -2, -1, -3, -2, -1,  0])\n",
    "np.testing.assert_array_almost_equal(v, expected_v, decimal=2)"
   ]
  }
 ],
 "metadata": {
  "kernelspec": {
   "display_name": "Python 3.10.6 ('intro_to_rl')",
   "language": "python",
   "name": "python3"
  },
  "language_info": {
   "codemirror_mode": {
    "name": "ipython",
    "version": 3
   },
   "file_extension": ".py",
   "mimetype": "text/x-python",
   "name": "python",
   "nbconvert_exporter": "python",
   "pygments_lexer": "ipython3",
   "version": "3.10.6"
  },
  "orig_nbformat": 4,
  "vscode": {
   "interpreter": {
    "hash": "36d08a71a96b769903d5af130c4a103f80dc5f26da6aebb61584a77116c07102"
   }
  }
 },
 "nbformat": 4,
 "nbformat_minor": 2
}
